{
 "cells": [
  {
   "cell_type": "markdown",
   "id": "a3813f59-82ac-4600-ae75-8c10bc53f9fe",
   "metadata": {},
   "source": [
    "> A derivada de uma função descreve a taxa de variação instantânea da função em um certo ponto. Outra interpretação comum é que a derivada nos dá a inclinação da reta tangente ao gráfico da função em um ponto [[Khan Academy]](https://pt.khanacademy.org/math/differential-calculus/dc-diff-intro#:~:text=A%20derivada%20de%20uma%20fun%C3%A7%C3%A3o,definir%20a%20derivada%20usando%20limites.)"
   ]
  },
  {
   "cell_type": "code",
   "execution_count": 1,
   "id": "dafd63e0-d4dd-4533-92ba-946d8726076b",
   "metadata": {},
   "outputs": [],
   "source": [
    "import math\n",
    "import numpy as np\n",
    "import matplotlib.pyplot as plt\n",
    "%matplotlib inline"
   ]
  },
  {
   "cell_type": "markdown",
   "id": "418a3bd9-4525-4e45-8932-71fe9ccec122",
   "metadata": {},
   "source": [
    "Aqui nós vamos definir uma função quadrática qualquer, só para ter uma melhor ideia do que as derivadas estarão nos indicando."
   ]
  },
  {
   "cell_type": "code",
   "execution_count": 2,
   "id": "ef95b6cb-ef41-4bff-af19-25b8e4fa0673",
   "metadata": {},
   "outputs": [],
   "source": [
    "def f(x):\n",
    "    return 3 * x**2 - 2 * x"
   ]
  },
  {
   "cell_type": "code",
   "execution_count": 3,
   "id": "a78302fe-2722-4db2-b4b4-669e7e63be5b",
   "metadata": {},
   "outputs": [
    {
     "data": {
      "text/plain": [
       "[<matplotlib.lines.Line2D at 0x7f571edb8190>]"
      ]
     },
     "execution_count": 3,
     "metadata": {},
     "output_type": "execute_result"
    },
    {
     "data": {
      "image/png": "[encoded data removed]",
      "text/plain": [
       "<Figure size 432x288 with 1 Axes>"
      ]
     },
     "metadata": {
      "needs_background": "light"
     },
     "output_type": "display_data"
    }
   ],
   "source": [
    "xs = np.arange(-5, 5, 0.25)\n",
    "ys = f(xs)\n",
    "plt.plot(xs, ys)"
   ]
  },
  {
   "attachments": {
    "a405125d-9bcd-4d6e-a4f9-90786142da91.png": {
     "image/png": "[encoded data removed]"
    }
   },
   "cell_type": "markdown",
   "id": "0b80f365-c676-4d00-82e9-aa15bc12da0a",
   "metadata": {},
   "source": [
    "A fim de capturar essa \"taxa de variação instantânea\", nós temos a seguinte função definida:\n",
    "\n",
    "![image.png](attachment:a405125d-9bcd-4d6e-a4f9-90786142da91.png)\n",
    "\n",
    "Com isso, nós podemos ver que a ideia é observar o quanto que _x_ muda ao dar um pequeno passo de tamanho _h_.\n",
    "\n",
    "Abaixo nós calculamos a derivada para diferentes pontos do gráfico mostrado anteriormente."
   ]
  },
  {
   "cell_type": "code",
   "execution_count": 4,
   "id": "0fd67691-0d3b-423a-8fa1-19b810d79309",
   "metadata": {},
   "outputs": [
    {
     "name": "stdout",
     "output_type": "stream",
     "text": [
      "x:-2 derivada:-13.999996999913833\n",
      "x:0 derivada:-1.999997\n",
      "x:2 derivada:10.000003001664481\n",
      "x:3 derivada:16.000003000726792\n"
     ]
    }
   ],
   "source": [
    "h = 0.000001\n",
    "x_ = [-2, 0, 2, 3]\n",
    "for x in x_:\n",
    "    print(f'x:{x} derivada:{(f(x + h) - f(x))/h}')"
   ]
  },
  {
   "cell_type": "markdown",
   "id": "51875b40-7bae-4e83-8054-bcc3f1158a0c",
   "metadata": {},
   "source": [
    "Quando _x_ é -2, podemos ver no gráfico que há uma notável inclinação decrescente, o que justifica a derivada de aproximadamente -14. Já quando _x_ é 0, apesar de ainda haver uma inclinação decrescente, ela é mais suave e, por isso a derivada é aproximadamente -2.\n",
    "\n",
    "Da mesma forma, nós podemos ver a inclinação crescente quando _x_ é 2 e 3, sendo que, em 3, a subida é mais \"íngreme\".\n",
    "\n",
    "***\n",
    "\n",
    "Agora vamos aplicar derivadas de uma outra forma. Aqui nós utilizaremos da derivada, a fim de observar como que uma determinada variável pode \"influenciar\" uma função."
   ]
  },
  {
   "cell_type": "code",
   "execution_count": 5,
   "id": "359d12b7-cf6a-474a-a4e6-2c1c5391e2f0",
   "metadata": {},
   "outputs": [],
   "source": [
    "def g(a, b, c):\n",
    "    return a * b + c"
   ]
  },
  {
   "cell_type": "markdown",
   "id": "161cac84-95b7-4246-be7d-4700194f6731",
   "metadata": {},
   "source": [
    "Definida a função, agora vamos ver o que as derivadas nos mostram:"
   ]
  },
  {
   "cell_type": "code",
   "execution_count": 6,
   "id": "7422072a-4fdd-47ee-bd17-f72effa6528b",
   "metadata": {},
   "outputs": [
    {
     "name": "stdout",
     "output_type": "stream",
     "text": [
      "g_ 4.0\n",
      "g_a 3.999699999999999\n",
      "slope -3.000000000010772\n",
      "g_b 4.0002\n",
      "slope 2.0000000000042206\n",
      "g_c 4.0001\n",
      "slope 0.9999999999976694\n"
     ]
    }
   ],
   "source": [
    "h = 0.0001\n",
    "\n",
    "a = 2.0\n",
    "b = -3.0\n",
    "c = 10.0\n",
    "\n",
    "g_ = g(a, b, c)\n",
    "g_a = g(a + h, b, c)\n",
    "g_b = g(a, b + h, c)\n",
    "g_c = g(a, b, c + h)\n",
    "\n",
    "print('g_', g_)\n",
    "print('g_a', g_a)\n",
    "print('slope', (g_a - g_)/h)\n",
    "print('g_b', g_b)\n",
    "print('slope', (g_b - g_)/h)\n",
    "print('g_c', g_c)\n",
    "print('slope', (g_c - g_)/h)"
   ]
  },
  {
   "cell_type": "markdown",
   "id": "3cfcb6a9-19ff-42be-b705-c22cc73bfe1a",
   "metadata": {},
   "source": [
    "À vista disso, nós conseguimos ver que ao aumentar o valor de _a_, a função tende a retornar valores menores, o que é justificável, uma vez que _a_ é um valor positivo multiplicado por um valor negativo. Enquanto isso, ao aumentar _b_, a função tende a retornar valores maiores, já que _b_ é um valor negativo. Por outro lado, _c_ afeta o resultado da função menos que as demais variáveis, como é apenas somado aos demais valores."
   ]
  }
 ],
 "metadata": {
  "kernelspec": {
   "display_name": "Python 3 (ipykernel)",
   "language": "python",
   "name": "python3"
  },
  "language_info": {
   "codemirror_mode": {
    "name": "ipython",
    "version": 3
   },
   "file_extension": ".py",
   "mimetype": "text/x-python",
   "name": "python",
   "nbconvert_exporter": "python",
   "pygments_lexer": "ipython3",
   "version": "3.10.4"
  }
 },
 "nbformat": 4,
 "nbformat_minor": 5
}
