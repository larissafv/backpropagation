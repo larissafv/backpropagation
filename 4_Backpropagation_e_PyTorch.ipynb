{
  "nbformat": 4,
  "nbformat_minor": 0,
  "metadata": {
    "colab": {
      "provenance": []
    },
    "kernelspec": {
      "name": "python3",
      "display_name": "Python 3"
    },
    "language_info": {
      "name": "python"
    }
  },
  "cells": [
    {
      "cell_type": "markdown",
      "source": [
        "O código a seguir já foi introduzido nos notebooks anteriores."
      ],
      "metadata": {
        "id": "PrCUNXt4UO23"
      }
    },
    {
      "cell_type": "code",
      "source": [
        "import math\n",
        "import random\n",
        "import numpy as np\n",
        "import matplotlib.pyplot as plt\n",
        "%matplotlib inline\n",
        "\n",
        "class Value:\n",
        "  \n",
        "  def __init__(self, data, _children=(), _op='', label=''):\n",
        "    self.data = data\n",
        "    self.grad = 0.0\n",
        "    self._backward = lambda: None\n",
        "    self._prev = set(_children)\n",
        "    self._op = _op\n",
        "    self.label = label\n",
        "\n",
        "  def __repr__(self):\n",
        "    return f\"Value(data={self.data})\"\n",
        "  \n",
        "  #Definição da operação de soma\n",
        "  def __add__(self, other):\n",
        "    other = other if isinstance(other, Value) else Value(other)\n",
        "    out = Value(self.data + other.data, (self, other), '+')\n",
        "    \n",
        "    #Como visto anteriormente, a derivada de uma soma é 1. Logo, com a regra da cadeia, basta fazer um \"repasse\" do gradiente que está \"chegando\"\n",
        "    def _backward():\n",
        "      self.grad += 1.0 * out.grad\n",
        "      other.grad += 1.0 * out.grad\n",
        "    out._backward = _backward\n",
        "    \n",
        "    return out\n",
        "\n",
        "  #Definição da operação de multiplicação\n",
        "  def __mul__(self, other):\n",
        "    other = other if isinstance(other, Value) else Value(other)\n",
        "    out = Value(self.data * other.data, (self, other), '*')\n",
        "    \n",
        "    #Como visto anteriormente, a derivada de uma multiplicação é o \"outro termo\". Logo, com a regra da cadeia, basta fazer uma multiplicação entre o \"outro termo\" e o grandiente que está \"chegando\"\n",
        "    def _backward():\n",
        "      self.grad += other.data * out.grad\n",
        "      other.grad += self.data * out.grad\n",
        "    out._backward = _backward\n",
        "      \n",
        "    return out\n",
        "  \n",
        "  #Definição da operação de potenciação\n",
        "  def __pow__(self, other):\n",
        "    assert isinstance(other, (int, float)), \"only supporting int/float powers for now\"\n",
        "    out = Value(self.data**other, (self,), f'**{other}')\n",
        "\n",
        "    #Como visto anteriormente, de acordo com a Regra do Tombo, a derivada de A^b deve ser b*A^b-1. Logo, com a regra da cadeia, basta multiplicar o resultado com o gradiente que está \"chegando\" \n",
        "    def _backward():\n",
        "        self.grad += other * (self.data ** (other - 1)) * out.grad\n",
        "    out._backward = _backward\n",
        "\n",
        "    return out\n",
        "  \n",
        "  #Definição da operação de multiplicação com a inversão dos fatores\n",
        "  def __rmul__(self, other):\n",
        "    return self * other\n",
        "\n",
        "  #Definição da operação de divisão como uma operação de potenciação\n",
        "  def __truediv__(self, other):\n",
        "    return self * other**-1\n",
        "\n",
        "  #Definição da operação do negativo de um valor\n",
        "  def __neg__(self):\n",
        "    return self * -1\n",
        "  \n",
        "  #Definição da operação de subtração\n",
        "  def __sub__(self, other):\n",
        "    return self + (-other)\n",
        "\n",
        "  #Definição da operação de adição com a inversão dos valores\n",
        "  def __radd__(self, other):\n",
        "    return self + other\n",
        "\n",
        "  #Definição da função Tangente Hiperbólica\n",
        "  def tanh(self):\n",
        "    x = self.data\n",
        "    t = (math.exp(2*x) - 1)/(math.exp(2*x) + 1)\n",
        "    out = Value(t, (self, ), 'tanh')\n",
        "    \n",
        "    #Cálculo do gradiente com base na derivada da função e, com a regra da cadeia, no gradiente que está \"chegando\"\n",
        "    def _backward():\n",
        "      self.grad += (1 - t**2) * out.grad\n",
        "    out._backward = _backward\n",
        "    \n",
        "    return out\n",
        "  \n",
        "  #Definição da função de exponencial natural\n",
        "  def exp(self):\n",
        "    x = self.data\n",
        "    out = Value(math.exp(x), (self, ), 'exp')\n",
        "    \n",
        "    #Como visto anteriormente, a derivada dessa função é ela mesma, por isso, basta multiplicar o seu valor pelo gradiente que está \"chegando\"\n",
        "    def _backward():\n",
        "      self.grad += out.data * out.grad\n",
        "    out._backward = _backward\n",
        "    \n",
        "    return out\n",
        "  \n",
        "  #Função que orquestra o cálculo dos gradientes\n",
        "  def backward(self):\n",
        "    \n",
        "    topo = []\n",
        "    visited = set()\n",
        "    def build_topo(v):\n",
        "      if v not in visited:\n",
        "        visited.add(v)\n",
        "        for child in v._prev:\n",
        "          build_topo(child)\n",
        "        topo.append(v)\n",
        "    build_topo(self)\n",
        "    \n",
        "    self.grad = 1.0\n",
        "    for node in reversed(topo):\n",
        "      node._backward()"
      ],
      "metadata": {
        "id": "LRx7pJZpT3Sr"
      },
      "execution_count": 1,
      "outputs": []
    },
    {
      "cell_type": "code",
      "source": [
        "from graphviz import Digraph\n",
        "\n",
        "def trace(root):\n",
        "  # builds a set of all nodes and edges in a graph\n",
        "  nodes, edges = set(), set()\n",
        "  def build(v):\n",
        "    if v not in nodes:\n",
        "      nodes.add(v)\n",
        "      for child in v._prev:\n",
        "        edges.add((child, v))\n",
        "        build(child)\n",
        "  build(root)\n",
        "  return nodes, edges\n",
        "\n",
        "def draw_dot(root):\n",
        "  dot = Digraph(format='svg', graph_attr={'rankdir': 'LR'}) # LR = left to right\n",
        "  \n",
        "  nodes, edges = trace(root)\n",
        "  for n in nodes:\n",
        "    uid = str(id(n))\n",
        "    # for any value in the graph, create a rectangular ('record') node for it\n",
        "    dot.node(name = uid, label = \"{ %s | data %.4f | grad %.4f }\" % (n.label, n.data, n.grad), shape='record')\n",
        "    if n._op:\n",
        "      # if this value is a result of some operation, create an op node for it\n",
        "      dot.node(name = uid + n._op, label = n._op)\n",
        "      # and connect this node to it\n",
        "      dot.edge(uid + n._op, uid)\n",
        "\n",
        "  for n1, n2 in edges:\n",
        "    # connect n1 to the op node of n2\n",
        "    dot.edge(str(id(n1)), str(id(n2)) + n2._op)\n",
        "\n",
        "  return dot"
      ],
      "metadata": {
        "id": "miYrnOE3URep"
      },
      "execution_count": 2,
      "outputs": []
    },
    {
      "cell_type": "code",
      "source": [
        "# inputs x1,x2\n",
        "x1 = Value(2.0, label='x1')\n",
        "x2 = Value(0.0, label='x2')\n",
        "\n",
        "# weights w1,w2\n",
        "w1 = Value(-3.0, label='w1')\n",
        "w2 = Value(1.0, label='w2')\n",
        "\n",
        "# bias of the neuron\n",
        "b = Value(6.8813735870195432, label='b')\n",
        "\n",
        "# x1*w1 + x2*w2 + b\n",
        "x1w1 = x1*w1; x1w1.label = 'x1*w1'\n",
        "x2w2 = x2*w2; x2w2.label = 'x2*w2'\n",
        "x1w1x2w2 = x1w1 + x2w2; x1w1x2w2.label = 'x1*w1 + x2*w2'\n",
        "n = x1w1x2w2 + b; n.label = 'n'\n",
        "\n",
        "# A seguir a função tanh foi desmenbrada, a fim de aparecer mais explicitamente no grafo\n",
        "e = (2*n).exp()\n",
        "o = (e - 1) / (e + 1)\n",
        "\n",
        "o.label = 'o'\n",
        "o.backward()\n",
        "draw_dot(o)"
      ],
      "metadata": {
        "colab": {
          "base_uri": "https://localhost:8080/",
          "height": 356
        },
        "id": "0HGfFmXwUUOK",
        "outputId": "2873aa23-7edd-4025-861d-2afebc68f41a"
      },
      "execution_count": 3,
      "outputs": [
        {
          "output_type": "execute_result",
          "data": {
            "image/svg+xml": "<?xml version=\"1.0\" encoding=\"UTF-8\" standalone=\"no\"?>\n<!DOCTYPE svg PUBLIC \"-//W3C//DTD SVG 1.1//EN\"\n \"http://www.w3.org/Graphics/SVG/1.1/DTD/svg11.dtd\">\n<!-- Generated by graphviz version 2.43.0 (0)\n -->\n<!-- Title: %3 Pages: 1 -->\n<svg width=\"2944pt\" height=\"236pt\"\n viewBox=\"0.00 0.00 2944.00 236.00\" xmlns=\"http://www.w3.org/2000/svg\" xmlns:xlink=\"http://www.w3.org/1999/xlink\">\n<g id=\"graph0\" class=\"graph\" transform=\"scale(1 1) rotate(0) translate(4 232)\">\n<title>%3</title>\n<polygon fill=\"white\" stroke=\"transparent\" points=\"-4,4 -4,-232 2940,-232 2940,4 -4,4\"/>\n<!-- 140515630877232 -->\n<g id=\"node1\" class=\"node\">\n<title>140515630877232</title>\n<polygon fill=\"none\" stroke=\"black\" points=\"1071,-109.5 1071,-145.5 1256,-145.5 1256,-109.5 1071,-109.5\"/>\n<text text-anchor=\"middle\" x=\"1082.5\" y=\"-123.8\" font-family=\"Times,serif\" font-size=\"14.00\">n</text>\n<polyline fill=\"none\" stroke=\"black\" points=\"1094,-109.5 1094,-145.5 \"/>\n<text text-anchor=\"middle\" x=\"1134\" y=\"-123.8\" font-family=\"Times,serif\" font-size=\"14.00\">data 0.8814</text>\n<polyline fill=\"none\" stroke=\"black\" points=\"1174,-109.5 1174,-145.5 \"/>\n<text text-anchor=\"middle\" x=\"1215\" y=\"-123.8\" font-family=\"Times,serif\" font-size=\"14.00\">grad 0.5000</text>\n</g>\n<!-- 140515630876368* -->\n<g id=\"node9\" class=\"node\">\n<title>140515630876368*</title>\n<ellipse fill=\"none\" stroke=\"black\" cx=\"1319\" cy=\"-154.5\" rx=\"27\" ry=\"18\"/>\n<text text-anchor=\"middle\" x=\"1319\" y=\"-150.8\" font-family=\"Times,serif\" font-size=\"14.00\">*</text>\n</g>\n<!-- 140515630877232&#45;&gt;140515630876368* -->\n<g id=\"edge27\" class=\"edge\">\n<title>140515630877232&#45;&gt;140515630876368*</title>\n<path fill=\"none\" stroke=\"black\" d=\"M1256.01,-143.6C1265.49,-145.26 1274.66,-146.88 1282.9,-148.33\"/>\n<polygon fill=\"black\" stroke=\"black\" points=\"1282.36,-151.78 1292.81,-150.07 1283.57,-144.89 1282.36,-151.78\"/>\n</g>\n<!-- 140515630877232+ -->\n<g id=\"node2\" class=\"node\">\n<title>140515630877232+</title>\n<ellipse fill=\"none\" stroke=\"black\" cx=\"1008\" cy=\"-127.5\" rx=\"27\" ry=\"18\"/>\n<text text-anchor=\"middle\" x=\"1008\" y=\"-123.8\" font-family=\"Times,serif\" font-size=\"14.00\">+</text>\n</g>\n<!-- 140515630877232+&#45;&gt;140515630877232 -->\n<g id=\"edge1\" class=\"edge\">\n<title>140515630877232+&#45;&gt;140515630877232</title>\n<path fill=\"none\" stroke=\"black\" d=\"M1035.04,-127.5C1042.58,-127.5 1051.3,-127.5 1060.57,-127.5\"/>\n<polygon fill=\"black\" stroke=\"black\" points=\"1060.81,-131 1070.81,-127.5 1060.81,-124 1060.81,-131\"/>\n</g>\n<!-- 140515630878336 -->\n<g id=\"node3\" class=\"node\">\n<title>140515630878336</title>\n<polygon fill=\"none\" stroke=\"black\" points=\"2,-55.5 2,-91.5 198,-91.5 198,-55.5 2,-55.5\"/>\n<text text-anchor=\"middle\" x=\"17\" y=\"-69.8\" font-family=\"Times,serif\" font-size=\"14.00\">x1</text>\n<polyline fill=\"none\" stroke=\"black\" points=\"32,-55.5 32,-91.5 \"/>\n<text text-anchor=\"middle\" x=\"72\" y=\"-69.8\" font-family=\"Times,serif\" font-size=\"14.00\">data 2.0000</text>\n<polyline fill=\"none\" stroke=\"black\" points=\"112,-55.5 112,-91.5 \"/>\n<text text-anchor=\"middle\" x=\"155\" y=\"-69.8\" font-family=\"Times,serif\" font-size=\"14.00\">grad &#45;1.5000</text>\n</g>\n<!-- 140515630877472* -->\n<g id=\"node19\" class=\"node\">\n<title>140515630877472*</title>\n<ellipse fill=\"none\" stroke=\"black\" cx=\"263\" cy=\"-73.5\" rx=\"27\" ry=\"18\"/>\n<text text-anchor=\"middle\" x=\"263\" y=\"-69.8\" font-family=\"Times,serif\" font-size=\"14.00\">*</text>\n</g>\n<!-- 140515630878336&#45;&gt;140515630877472* -->\n<g id=\"edge23\" class=\"edge\">\n<title>140515630878336&#45;&gt;140515630877472*</title>\n<path fill=\"none\" stroke=\"black\" d=\"M198.37,-73.5C208.05,-73.5 217.4,-73.5 225.8,-73.5\"/>\n<polygon fill=\"black\" stroke=\"black\" points=\"225.91,-77 235.91,-73.5 225.91,-70 225.91,-77\"/>\n</g>\n<!-- 140515630877856 -->\n<g id=\"node4\" class=\"node\">\n<title>140515630877856</title>\n<polygon fill=\"none\" stroke=\"black\" points=\"716,-137.5 716,-173.5 901,-173.5 901,-137.5 716,-137.5\"/>\n<text text-anchor=\"middle\" x=\"727.5\" y=\"-151.8\" font-family=\"Times,serif\" font-size=\"14.00\">b</text>\n<polyline fill=\"none\" stroke=\"black\" points=\"739,-137.5 739,-173.5 \"/>\n<text text-anchor=\"middle\" x=\"779\" y=\"-151.8\" font-family=\"Times,serif\" font-size=\"14.00\">data 6.8814</text>\n<polyline fill=\"none\" stroke=\"black\" points=\"819,-137.5 819,-173.5 \"/>\n<text text-anchor=\"middle\" x=\"860\" y=\"-151.8\" font-family=\"Times,serif\" font-size=\"14.00\">grad 0.5000</text>\n</g>\n<!-- 140515630877856&#45;&gt;140515630877232+ -->\n<g id=\"edge20\" class=\"edge\">\n<title>140515630877856&#45;&gt;140515630877232+</title>\n<path fill=\"none\" stroke=\"black\" d=\"M901.02,-142.52C926,-138.98 951.59,-135.36 971.37,-132.55\"/>\n<polygon fill=\"black\" stroke=\"black\" points=\"972.03,-135.99 981.43,-131.12 971.04,-129.06 972.03,-135.99\"/>\n</g>\n<!-- 140515630878384 -->\n<g id=\"node5\" class=\"node\">\n<title>140515630878384</title>\n<polygon fill=\"none\" stroke=\"black\" points=\"2.5,-165.5 2.5,-201.5 197.5,-201.5 197.5,-165.5 2.5,-165.5\"/>\n<text text-anchor=\"middle\" x=\"19\" y=\"-179.8\" font-family=\"Times,serif\" font-size=\"14.00\">w2</text>\n<polyline fill=\"none\" stroke=\"black\" points=\"35.5,-165.5 35.5,-201.5 \"/>\n<text text-anchor=\"middle\" x=\"75.5\" y=\"-179.8\" font-family=\"Times,serif\" font-size=\"14.00\">data 1.0000</text>\n<polyline fill=\"none\" stroke=\"black\" points=\"115.5,-165.5 115.5,-201.5 \"/>\n<text text-anchor=\"middle\" x=\"156.5\" y=\"-179.8\" font-family=\"Times,serif\" font-size=\"14.00\">grad 0.0000</text>\n</g>\n<!-- 140515630876896* -->\n<g id=\"node16\" class=\"node\">\n<title>140515630876896*</title>\n<ellipse fill=\"none\" stroke=\"black\" cx=\"263\" cy=\"-128.5\" rx=\"27\" ry=\"18\"/>\n<text text-anchor=\"middle\" x=\"263\" y=\"-124.8\" font-family=\"Times,serif\" font-size=\"14.00\">*</text>\n</g>\n<!-- 140515630878384&#45;&gt;140515630876896* -->\n<g id=\"edge12\" class=\"edge\">\n<title>140515630878384&#45;&gt;140515630876896*</title>\n<path fill=\"none\" stroke=\"black\" d=\"M172.53,-165.44C181.84,-162.67 191.2,-159.67 200,-156.5 210.53,-152.71 221.75,-147.9 231.72,-143.33\"/>\n<polygon fill=\"black\" stroke=\"black\" points=\"233.25,-146.48 240.82,-139.07 230.28,-140.14 233.25,-146.48\"/>\n</g>\n<!-- 140515667259248 -->\n<g id=\"node6\" class=\"node\">\n<title>140515667259248</title>\n<polygon fill=\"none\" stroke=\"black\" points=\"2003,-108.5 2003,-144.5 2189,-144.5 2189,-108.5 2003,-108.5\"/>\n<text text-anchor=\"middle\" x=\"2013\" y=\"-122.8\" font-family=\"Times,serif\" font-size=\"14.00\"> </text>\n<polyline fill=\"none\" stroke=\"black\" points=\"2023,-108.5 2023,-144.5 \"/>\n<text text-anchor=\"middle\" x=\"2063\" y=\"-122.8\" font-family=\"Times,serif\" font-size=\"14.00\">data 6.8284</text>\n<polyline fill=\"none\" stroke=\"black\" points=\"2103,-108.5 2103,-144.5 \"/>\n<text text-anchor=\"middle\" x=\"2146\" y=\"-122.8\" font-family=\"Times,serif\" font-size=\"14.00\">grad &#45;0.1036</text>\n</g>\n<!-- 140515667259104**&#45;1 -->\n<g id=\"node21\" class=\"node\">\n<title>140515667259104**&#45;1</title>\n<ellipse fill=\"none\" stroke=\"black\" cx=\"2316\" cy=\"-126.5\" rx=\"27\" ry=\"18\"/>\n<text text-anchor=\"middle\" x=\"2316\" y=\"-122.8\" font-family=\"Times,serif\" font-size=\"14.00\">**&#45;1</text>\n</g>\n<!-- 140515667259248&#45;&gt;140515667259104**&#45;1 -->\n<g id=\"edge26\" class=\"edge\">\n<title>140515667259248&#45;&gt;140515667259104**&#45;1</title>\n<path fill=\"none\" stroke=\"black\" d=\"M2189.14,-126.5C2220.72,-126.5 2254.24,-126.5 2278.74,-126.5\"/>\n<polygon fill=\"black\" stroke=\"black\" points=\"2278.98,-130 2288.98,-126.5 2278.98,-123 2278.98,-130\"/>\n</g>\n<!-- 140515667259248+ -->\n<g id=\"node7\" class=\"node\">\n<title>140515667259248+</title>\n<ellipse fill=\"none\" stroke=\"black\" cx=\"1940\" cy=\"-126.5\" rx=\"27\" ry=\"18\"/>\n<text text-anchor=\"middle\" x=\"1940\" y=\"-122.8\" font-family=\"Times,serif\" font-size=\"14.00\">+</text>\n</g>\n<!-- 140515667259248+&#45;&gt;140515667259248 -->\n<g id=\"edge2\" class=\"edge\">\n<title>140515667259248+&#45;&gt;140515667259248</title>\n<path fill=\"none\" stroke=\"black\" d=\"M1967.12,-126.5C1974.62,-126.5 1983.29,-126.5 1992.5,-126.5\"/>\n<polygon fill=\"black\" stroke=\"black\" points=\"1992.69,-130 2002.69,-126.5 1992.69,-123 1992.69,-130\"/>\n</g>\n<!-- 140515630876368 -->\n<g id=\"node8\" class=\"node\">\n<title>140515630876368</title>\n<polygon fill=\"none\" stroke=\"black\" points=\"1382,-136.5 1382,-172.5 1564,-172.5 1564,-136.5 1382,-136.5\"/>\n<text text-anchor=\"middle\" x=\"1392\" y=\"-150.8\" font-family=\"Times,serif\" font-size=\"14.00\"> </text>\n<polyline fill=\"none\" stroke=\"black\" points=\"1402,-136.5 1402,-172.5 \"/>\n<text text-anchor=\"middle\" x=\"1442\" y=\"-150.8\" font-family=\"Times,serif\" font-size=\"14.00\">data 1.7627</text>\n<polyline fill=\"none\" stroke=\"black\" points=\"1482,-136.5 1482,-172.5 \"/>\n<text text-anchor=\"middle\" x=\"1523\" y=\"-150.8\" font-family=\"Times,serif\" font-size=\"14.00\">grad 0.2500</text>\n</g>\n<!-- 140515630876656exp -->\n<g id=\"node28\" class=\"node\">\n<title>140515630876656exp</title>\n<ellipse fill=\"none\" stroke=\"black\" cx=\"1627\" cy=\"-154.5\" rx=\"27\" ry=\"18\"/>\n<text text-anchor=\"middle\" x=\"1627\" y=\"-150.8\" font-family=\"Times,serif\" font-size=\"14.00\">exp</text>\n</g>\n<!-- 140515630876368&#45;&gt;140515630876656exp -->\n<g id=\"edge19\" class=\"edge\">\n<title>140515630876368&#45;&gt;140515630876656exp</title>\n<path fill=\"none\" stroke=\"black\" d=\"M1564.18,-154.5C1573.14,-154.5 1581.83,-154.5 1589.73,-154.5\"/>\n<polygon fill=\"black\" stroke=\"black\" points=\"1589.96,-158 1599.96,-154.5 1589.96,-151 1589.96,-158\"/>\n</g>\n<!-- 140515630876368*&#45;&gt;140515630876368 -->\n<g id=\"edge3\" class=\"edge\">\n<title>140515630876368*&#45;&gt;140515630876368</title>\n<path fill=\"none\" stroke=\"black\" d=\"M1346.13,-154.5C1353.67,-154.5 1362.39,-154.5 1371.64,-154.5\"/>\n<polygon fill=\"black\" stroke=\"black\" points=\"1371.87,-158 1381.87,-154.5 1371.87,-151 1371.87,-158\"/>\n</g>\n<!-- 140515667257040 -->\n<g id=\"node10\" class=\"node\">\n<title>140515667257040</title>\n<polygon fill=\"none\" stroke=\"black\" points=\"2751,-135.5 2751,-171.5 2936,-171.5 2936,-135.5 2751,-135.5\"/>\n<text text-anchor=\"middle\" x=\"2762.5\" y=\"-149.8\" font-family=\"Times,serif\" font-size=\"14.00\">o</text>\n<polyline fill=\"none\" stroke=\"black\" points=\"2774,-135.5 2774,-171.5 \"/>\n<text text-anchor=\"middle\" x=\"2814\" y=\"-149.8\" font-family=\"Times,serif\" font-size=\"14.00\">data 0.7071</text>\n<polyline fill=\"none\" stroke=\"black\" points=\"2854,-135.5 2854,-171.5 \"/>\n<text text-anchor=\"middle\" x=\"2895\" y=\"-149.8\" font-family=\"Times,serif\" font-size=\"14.00\">grad 1.0000</text>\n</g>\n<!-- 140515667257040* -->\n<g id=\"node11\" class=\"node\">\n<title>140515667257040*</title>\n<ellipse fill=\"none\" stroke=\"black\" cx=\"2688\" cy=\"-153.5\" rx=\"27\" ry=\"18\"/>\n<text text-anchor=\"middle\" x=\"2688\" y=\"-149.8\" font-family=\"Times,serif\" font-size=\"14.00\">*</text>\n</g>\n<!-- 140515667257040*&#45;&gt;140515667257040 -->\n<g id=\"edge4\" class=\"edge\">\n<title>140515667257040*&#45;&gt;140515667257040</title>\n<path fill=\"none\" stroke=\"black\" d=\"M2715.04,-153.5C2722.58,-153.5 2731.3,-153.5 2740.57,-153.5\"/>\n<polygon fill=\"black\" stroke=\"black\" points=\"2740.81,-157 2750.81,-153.5 2740.81,-150 2740.81,-157\"/>\n</g>\n<!-- 140515630877424 -->\n<g id=\"node12\" class=\"node\">\n<title>140515630877424</title>\n<polygon fill=\"none\" stroke=\"black\" points=\"672,-82.5 672,-118.5 945,-118.5 945,-82.5 672,-82.5\"/>\n<text text-anchor=\"middle\" x=\"725\" y=\"-96.8\" font-family=\"Times,serif\" font-size=\"14.00\">x1*w1 + x2*w2</text>\n<polyline fill=\"none\" stroke=\"black\" points=\"778,-82.5 778,-118.5 \"/>\n<text text-anchor=\"middle\" x=\"820.5\" y=\"-96.8\" font-family=\"Times,serif\" font-size=\"14.00\">data &#45;6.0000</text>\n<polyline fill=\"none\" stroke=\"black\" points=\"863,-82.5 863,-118.5 \"/>\n<text text-anchor=\"middle\" x=\"904\" y=\"-96.8\" font-family=\"Times,serif\" font-size=\"14.00\">grad 0.5000</text>\n</g>\n<!-- 140515630877424&#45;&gt;140515630877232+ -->\n<g id=\"edge11\" class=\"edge\">\n<title>140515630877424&#45;&gt;140515630877232+</title>\n<path fill=\"none\" stroke=\"black\" d=\"M941.24,-118.51C952.12,-120 962.4,-121.4 971.45,-122.64\"/>\n<polygon fill=\"black\" stroke=\"black\" points=\"971.11,-126.13 981.49,-124.01 972.05,-119.19 971.11,-126.13\"/>\n</g>\n<!-- 140515630877424+ -->\n<g id=\"node13\" class=\"node\">\n<title>140515630877424+</title>\n<ellipse fill=\"none\" stroke=\"black\" cx=\"609\" cy=\"-100.5\" rx=\"27\" ry=\"18\"/>\n<text text-anchor=\"middle\" x=\"609\" y=\"-96.8\" font-family=\"Times,serif\" font-size=\"14.00\">+</text>\n</g>\n<!-- 140515630877424+&#45;&gt;140515630877424 -->\n<g id=\"edge5\" class=\"edge\">\n<title>140515630877424+&#45;&gt;140515630877424</title>\n<path fill=\"none\" stroke=\"black\" d=\"M636.23,-100.5C643.7,-100.5 652.41,-100.5 661.87,-100.5\"/>\n<polygon fill=\"black\" stroke=\"black\" points=\"661.98,-104 671.98,-100.5 661.98,-97 661.98,-104\"/>\n</g>\n<!-- 140515630877904 -->\n<g id=\"node14\" class=\"node\">\n<title>140515630877904</title>\n<polygon fill=\"none\" stroke=\"black\" points=\"0,-0.5 0,-36.5 200,-36.5 200,-0.5 0,-0.5\"/>\n<text text-anchor=\"middle\" x=\"16.5\" y=\"-14.8\" font-family=\"Times,serif\" font-size=\"14.00\">w1</text>\n<polyline fill=\"none\" stroke=\"black\" points=\"33,-0.5 33,-36.5 \"/>\n<text text-anchor=\"middle\" x=\"75.5\" y=\"-14.8\" font-family=\"Times,serif\" font-size=\"14.00\">data &#45;3.0000</text>\n<polyline fill=\"none\" stroke=\"black\" points=\"118,-0.5 118,-36.5 \"/>\n<text text-anchor=\"middle\" x=\"159\" y=\"-14.8\" font-family=\"Times,serif\" font-size=\"14.00\">grad 1.0000</text>\n</g>\n<!-- 140515630877904&#45;&gt;140515630877472* -->\n<g id=\"edge16\" class=\"edge\">\n<title>140515630877904&#45;&gt;140515630877472*</title>\n<path fill=\"none\" stroke=\"black\" d=\"M172.53,-36.56C181.84,-39.33 191.2,-42.33 200,-45.5 210.53,-49.29 221.75,-54.1 231.72,-58.67\"/>\n<polygon fill=\"black\" stroke=\"black\" points=\"230.28,-61.86 240.82,-62.93 233.25,-55.52 230.28,-61.86\"/>\n</g>\n<!-- 140515630876896 -->\n<g id=\"node15\" class=\"node\">\n<title>140515630876896</title>\n<polygon fill=\"none\" stroke=\"black\" points=\"328.5,-110.5 328.5,-146.5 543.5,-146.5 543.5,-110.5 328.5,-110.5\"/>\n<text text-anchor=\"middle\" x=\"355\" y=\"-124.8\" font-family=\"Times,serif\" font-size=\"14.00\">x2*w2</text>\n<polyline fill=\"none\" stroke=\"black\" points=\"381.5,-110.5 381.5,-146.5 \"/>\n<text text-anchor=\"middle\" x=\"421.5\" y=\"-124.8\" font-family=\"Times,serif\" font-size=\"14.00\">data 0.0000</text>\n<polyline fill=\"none\" stroke=\"black\" points=\"461.5,-110.5 461.5,-146.5 \"/>\n<text text-anchor=\"middle\" x=\"502.5\" y=\"-124.8\" font-family=\"Times,serif\" font-size=\"14.00\">grad 0.5000</text>\n</g>\n<!-- 140515630876896&#45;&gt;140515630877424+ -->\n<g id=\"edge18\" class=\"edge\">\n<title>140515630876896&#45;&gt;140515630877424+</title>\n<path fill=\"none\" stroke=\"black\" d=\"M543.84,-111.01C554.01,-109.34 563.76,-107.74 572.44,-106.32\"/>\n<polygon fill=\"black\" stroke=\"black\" points=\"573.17,-109.75 582.47,-104.68 572.04,-102.84 573.17,-109.75\"/>\n</g>\n<!-- 140515630876896*&#45;&gt;140515630876896 -->\n<g id=\"edge6\" class=\"edge\">\n<title>140515630876896*&#45;&gt;140515630876896</title>\n<path fill=\"none\" stroke=\"black\" d=\"M290.34,-128.5C298.51,-128.5 308.08,-128.5 318.36,-128.5\"/>\n<polygon fill=\"black\" stroke=\"black\" points=\"318.39,-132 328.39,-128.5 318.39,-125 318.39,-132\"/>\n</g>\n<!-- 140515667258144 -->\n<g id=\"node17\" class=\"node\">\n<title>140515667258144</title>\n<polygon fill=\"none\" stroke=\"black\" points=\"1690,-191.5 1690,-227.5 1877,-227.5 1877,-191.5 1690,-191.5\"/>\n<text text-anchor=\"middle\" x=\"1700\" y=\"-205.8\" font-family=\"Times,serif\" font-size=\"14.00\"> </text>\n<polyline fill=\"none\" stroke=\"black\" points=\"1710,-191.5 1710,-227.5 \"/>\n<text text-anchor=\"middle\" x=\"1752.5\" y=\"-205.8\" font-family=\"Times,serif\" font-size=\"14.00\">data &#45;1.0000</text>\n<polyline fill=\"none\" stroke=\"black\" points=\"1795,-191.5 1795,-227.5 \"/>\n<text text-anchor=\"middle\" x=\"1836\" y=\"-205.8\" font-family=\"Times,serif\" font-size=\"14.00\">grad 0.1464</text>\n</g>\n<!-- 140515667258240+ -->\n<g id=\"node25\" class=\"node\">\n<title>140515667258240+</title>\n<ellipse fill=\"none\" stroke=\"black\" cx=\"1940\" cy=\"-181.5\" rx=\"27\" ry=\"18\"/>\n<text text-anchor=\"middle\" x=\"1940\" y=\"-177.8\" font-family=\"Times,serif\" font-size=\"14.00\">+</text>\n</g>\n<!-- 140515667258144&#45;&gt;140515667258240+ -->\n<g id=\"edge25\" class=\"edge\">\n<title>140515667258144&#45;&gt;140515667258240+</title>\n<path fill=\"none\" stroke=\"black\" d=\"M1877.05,-192.73C1886.54,-191.01 1895.71,-189.35 1903.95,-187.85\"/>\n<polygon fill=\"black\" stroke=\"black\" points=\"1904.64,-191.28 1913.85,-186.06 1903.39,-184.4 1904.64,-191.28\"/>\n</g>\n<!-- 140515630877472 -->\n<g id=\"node18\" class=\"node\">\n<title>140515630877472</title>\n<polygon fill=\"none\" stroke=\"black\" points=\"326,-55.5 326,-91.5 546,-91.5 546,-55.5 326,-55.5\"/>\n<text text-anchor=\"middle\" x=\"352.5\" y=\"-69.8\" font-family=\"Times,serif\" font-size=\"14.00\">x1*w1</text>\n<polyline fill=\"none\" stroke=\"black\" points=\"379,-55.5 379,-91.5 \"/>\n<text text-anchor=\"middle\" x=\"421.5\" y=\"-69.8\" font-family=\"Times,serif\" font-size=\"14.00\">data &#45;6.0000</text>\n<polyline fill=\"none\" stroke=\"black\" points=\"464,-55.5 464,-91.5 \"/>\n<text text-anchor=\"middle\" x=\"505\" y=\"-69.8\" font-family=\"Times,serif\" font-size=\"14.00\">grad 0.5000</text>\n</g>\n<!-- 140515630877472&#45;&gt;140515630877424+ -->\n<g id=\"edge22\" class=\"edge\">\n<title>140515630877472&#45;&gt;140515630877424+</title>\n<path fill=\"none\" stroke=\"black\" d=\"M546.27,-90.75C555.64,-92.23 564.6,-93.65 572.65,-94.92\"/>\n<polygon fill=\"black\" stroke=\"black\" points=\"572.23,-98.4 582.65,-96.5 573.32,-91.48 572.23,-98.4\"/>\n</g>\n<!-- 140515630877472*&#45;&gt;140515630877472 -->\n<g id=\"edge7\" class=\"edge\">\n<title>140515630877472*&#45;&gt;140515630877472</title>\n<path fill=\"none\" stroke=\"black\" d=\"M290.34,-73.5C297.77,-73.5 306.37,-73.5 315.6,-73.5\"/>\n<polygon fill=\"black\" stroke=\"black\" points=\"315.84,-77 325.84,-73.5 315.84,-70 315.84,-77\"/>\n</g>\n<!-- 140515667259104 -->\n<g id=\"node20\" class=\"node\">\n<title>140515667259104</title>\n<polygon fill=\"none\" stroke=\"black\" points=\"2443,-112.5 2443,-148.5 2625,-148.5 2625,-112.5 2443,-112.5\"/>\n<text text-anchor=\"middle\" x=\"2453\" y=\"-126.8\" font-family=\"Times,serif\" font-size=\"14.00\"> </text>\n<polyline fill=\"none\" stroke=\"black\" points=\"2463,-112.5 2463,-148.5 \"/>\n<text text-anchor=\"middle\" x=\"2503\" y=\"-126.8\" font-family=\"Times,serif\" font-size=\"14.00\">data 0.1464</text>\n<polyline fill=\"none\" stroke=\"black\" points=\"2543,-112.5 2543,-148.5 \"/>\n<text text-anchor=\"middle\" x=\"2584\" y=\"-126.8\" font-family=\"Times,serif\" font-size=\"14.00\">grad 4.8284</text>\n</g>\n<!-- 140515667259104&#45;&gt;140515667257040* -->\n<g id=\"edge14\" class=\"edge\">\n<title>140515667259104&#45;&gt;140515667257040*</title>\n<path fill=\"none\" stroke=\"black\" d=\"M2625.18,-144.15C2634.42,-145.54 2643.38,-146.9 2651.47,-148.12\"/>\n<polygon fill=\"black\" stroke=\"black\" points=\"2651.15,-151.61 2661.56,-149.65 2652.19,-144.69 2651.15,-151.61\"/>\n</g>\n<!-- 140515667259104**&#45;1&#45;&gt;140515667259104 -->\n<g id=\"edge8\" class=\"edge\">\n<title>140515667259104**&#45;1&#45;&gt;140515667259104</title>\n<path fill=\"none\" stroke=\"black\" d=\"M2343.05,-126.98C2365.53,-127.4 2399.48,-128.03 2432.5,-128.64\"/>\n<polygon fill=\"black\" stroke=\"black\" points=\"2432.64,-132.14 2442.7,-128.83 2432.77,-125.14 2432.64,-132.14\"/>\n</g>\n<!-- 140515667259200 -->\n<g id=\"node22\" class=\"node\">\n<title>140515667259200</title>\n<polygon fill=\"none\" stroke=\"black\" points=\"1690.5,-81.5 1690.5,-117.5 1876.5,-117.5 1876.5,-81.5 1690.5,-81.5\"/>\n<text text-anchor=\"middle\" x=\"1700.5\" y=\"-95.8\" font-family=\"Times,serif\" font-size=\"14.00\"> </text>\n<polyline fill=\"none\" stroke=\"black\" points=\"1710.5,-81.5 1710.5,-117.5 \"/>\n<text text-anchor=\"middle\" x=\"1750.5\" y=\"-95.8\" font-family=\"Times,serif\" font-size=\"14.00\">data 1.0000</text>\n<polyline fill=\"none\" stroke=\"black\" points=\"1790.5,-81.5 1790.5,-117.5 \"/>\n<text text-anchor=\"middle\" x=\"1833.5\" y=\"-95.8\" font-family=\"Times,serif\" font-size=\"14.00\">grad &#45;0.1036</text>\n</g>\n<!-- 140515667259200&#45;&gt;140515667259248+ -->\n<g id=\"edge13\" class=\"edge\">\n<title>140515667259200&#45;&gt;140515667259248+</title>\n<path fill=\"none\" stroke=\"black\" d=\"M1876.6,-115.6C1886.15,-117.26 1895.37,-118.88 1903.68,-120.33\"/>\n<polygon fill=\"black\" stroke=\"black\" points=\"1903.2,-123.8 1913.65,-122.07 1904.4,-116.9 1903.2,-123.8\"/>\n</g>\n<!-- 140515630877040 -->\n<g id=\"node23\" class=\"node\">\n<title>140515630877040</title>\n<polygon fill=\"none\" stroke=\"black\" points=\"1072.5,-164.5 1072.5,-200.5 1254.5,-200.5 1254.5,-164.5 1072.5,-164.5\"/>\n<text text-anchor=\"middle\" x=\"1082.5\" y=\"-178.8\" font-family=\"Times,serif\" font-size=\"14.00\"> </text>\n<polyline fill=\"none\" stroke=\"black\" points=\"1092.5,-164.5 1092.5,-200.5 \"/>\n<text text-anchor=\"middle\" x=\"1132.5\" y=\"-178.8\" font-family=\"Times,serif\" font-size=\"14.00\">data 2.0000</text>\n<polyline fill=\"none\" stroke=\"black\" points=\"1172.5,-164.5 1172.5,-200.5 \"/>\n<text text-anchor=\"middle\" x=\"1213.5\" y=\"-178.8\" font-family=\"Times,serif\" font-size=\"14.00\">grad 0.2203</text>\n</g>\n<!-- 140515630877040&#45;&gt;140515630876368* -->\n<g id=\"edge24\" class=\"edge\">\n<title>140515630877040&#45;&gt;140515630876368*</title>\n<path fill=\"none\" stroke=\"black\" d=\"M1254.68,-166.05C1264.61,-164.24 1274.23,-162.48 1282.84,-160.91\"/>\n<polygon fill=\"black\" stroke=\"black\" points=\"1283.6,-164.33 1292.81,-159.09 1282.35,-157.45 1283.6,-164.33\"/>\n</g>\n<!-- 140515667258240 -->\n<g id=\"node24\" class=\"node\">\n<title>140515667258240</title>\n<polygon fill=\"none\" stroke=\"black\" points=\"2225,-163.5 2225,-199.5 2407,-199.5 2407,-163.5 2225,-163.5\"/>\n<text text-anchor=\"middle\" x=\"2235\" y=\"-177.8\" font-family=\"Times,serif\" font-size=\"14.00\"> </text>\n<polyline fill=\"none\" stroke=\"black\" points=\"2245,-163.5 2245,-199.5 \"/>\n<text text-anchor=\"middle\" x=\"2285\" y=\"-177.8\" font-family=\"Times,serif\" font-size=\"14.00\">data 4.8284</text>\n<polyline fill=\"none\" stroke=\"black\" points=\"2325,-163.5 2325,-199.5 \"/>\n<text text-anchor=\"middle\" x=\"2366\" y=\"-177.8\" font-family=\"Times,serif\" font-size=\"14.00\">grad 0.1464</text>\n</g>\n<!-- 140515667258240&#45;&gt;140515667257040* -->\n<g id=\"edge15\" class=\"edge\">\n<title>140515667258240&#45;&gt;140515667257040*</title>\n<path fill=\"none\" stroke=\"black\" d=\"M2407.31,-174.9C2468.7,-170.37 2551.76,-164.19 2625,-158.5 2633.42,-157.85 2642.48,-157.13 2651.01,-156.44\"/>\n<polygon fill=\"black\" stroke=\"black\" points=\"2651.37,-159.92 2661.06,-155.63 2650.81,-152.94 2651.37,-159.92\"/>\n</g>\n<!-- 140515667258240+&#45;&gt;140515667258240 -->\n<g id=\"edge9\" class=\"edge\">\n<title>140515667258240+&#45;&gt;140515667258240</title>\n<path fill=\"none\" stroke=\"black\" d=\"M1967,-181.5C2017.46,-181.5 2131.06,-181.5 2214.81,-181.5\"/>\n<polygon fill=\"black\" stroke=\"black\" points=\"2214.87,-185 2224.87,-181.5 2214.87,-178 2214.87,-185\"/>\n</g>\n<!-- 140515630878624 -->\n<g id=\"node26\" class=\"node\">\n<title>140515630878624</title>\n<polygon fill=\"none\" stroke=\"black\" points=\"4,-110.5 4,-146.5 196,-146.5 196,-110.5 4,-110.5\"/>\n<text text-anchor=\"middle\" x=\"19\" y=\"-124.8\" font-family=\"Times,serif\" font-size=\"14.00\">x2</text>\n<polyline fill=\"none\" stroke=\"black\" points=\"34,-110.5 34,-146.5 \"/>\n<text text-anchor=\"middle\" x=\"74\" y=\"-124.8\" font-family=\"Times,serif\" font-size=\"14.00\">data 0.0000</text>\n<polyline fill=\"none\" stroke=\"black\" points=\"114,-110.5 114,-146.5 \"/>\n<text text-anchor=\"middle\" x=\"155\" y=\"-124.8\" font-family=\"Times,serif\" font-size=\"14.00\">grad 0.5000</text>\n</g>\n<!-- 140515630878624&#45;&gt;140515630876896* -->\n<g id=\"edge21\" class=\"edge\">\n<title>140515630878624&#45;&gt;140515630876896*</title>\n<path fill=\"none\" stroke=\"black\" d=\"M196.05,-128.5C206.52,-128.5 216.65,-128.5 225.71,-128.5\"/>\n<polygon fill=\"black\" stroke=\"black\" points=\"225.79,-132 235.79,-128.5 225.79,-125 225.79,-132\"/>\n</g>\n<!-- 140515630876656 -->\n<g id=\"node27\" class=\"node\">\n<title>140515630876656</title>\n<polygon fill=\"none\" stroke=\"black\" points=\"1692.5,-136.5 1692.5,-172.5 1874.5,-172.5 1874.5,-136.5 1692.5,-136.5\"/>\n<text text-anchor=\"middle\" x=\"1702.5\" y=\"-150.8\" font-family=\"Times,serif\" font-size=\"14.00\"> </text>\n<polyline fill=\"none\" stroke=\"black\" points=\"1712.5,-136.5 1712.5,-172.5 \"/>\n<text text-anchor=\"middle\" x=\"1752.5\" y=\"-150.8\" font-family=\"Times,serif\" font-size=\"14.00\">data 5.8284</text>\n<polyline fill=\"none\" stroke=\"black\" points=\"1792.5,-136.5 1792.5,-172.5 \"/>\n<text text-anchor=\"middle\" x=\"1833.5\" y=\"-150.8\" font-family=\"Times,serif\" font-size=\"14.00\">grad 0.0429</text>\n</g>\n<!-- 140515630876656&#45;&gt;140515667259248+ -->\n<g id=\"edge17\" class=\"edge\">\n<title>140515630876656&#45;&gt;140515667259248+</title>\n<path fill=\"none\" stroke=\"black\" d=\"M1874.82,-138.13C1885.07,-136.27 1895.01,-134.47 1903.88,-132.87\"/>\n<polygon fill=\"black\" stroke=\"black\" points=\"1904.54,-136.3 1913.75,-131.08 1903.29,-129.42 1904.54,-136.3\"/>\n</g>\n<!-- 140515630876656&#45;&gt;140515667258240+ -->\n<g id=\"edge28\" class=\"edge\">\n<title>140515630876656&#45;&gt;140515667258240+</title>\n<path fill=\"none\" stroke=\"black\" d=\"M1874.82,-170.28C1885.07,-172.08 1895.01,-173.81 1903.88,-175.36\"/>\n<polygon fill=\"black\" stroke=\"black\" points=\"1903.3,-178.81 1913.75,-177.09 1904.5,-171.92 1903.3,-178.81\"/>\n</g>\n<!-- 140515630876656exp&#45;&gt;140515630876656 -->\n<g id=\"edge10\" class=\"edge\">\n<title>140515630876656exp&#45;&gt;140515630876656</title>\n<path fill=\"none\" stroke=\"black\" d=\"M1654.21,-154.5C1662.34,-154.5 1671.85,-154.5 1681.94,-154.5\"/>\n<polygon fill=\"black\" stroke=\"black\" points=\"1682.19,-158 1692.19,-154.5 1682.19,-151 1682.19,-158\"/>\n</g>\n</g>\n</svg>\n",
            "text/plain": [
              "<graphviz.graphs.Digraph at 0x7fcc58438820>"
            ]
          },
          "metadata": {},
          "execution_count": 3
        }
      ]
    },
    {
      "cell_type": "code",
      "source": [
        "import torch\n",
        "\n",
        "x1 = torch.Tensor([2.0]).double()                ; x1.requires_grad = True\n",
        "x2 = torch.Tensor([0.0]).double()                ; x2.requires_grad = True\n",
        "w1 = torch.Tensor([-3.0]).double()               ; w1.requires_grad = True\n",
        "w2 = torch.Tensor([1.0]).double()                ; w2.requires_grad = True\n",
        "b = torch.Tensor([6.8813735870195432]).double()  ; b.requires_grad = True\n",
        "n = x1*w1 + x2*w2 + b\n",
        "o = torch.tanh(n)\n",
        "\n",
        "o.backward()\n",
        "\n",
        "print()\n",
        "print('x2:', x2.grad.item())\n",
        "print('w2:', w2.grad.item())\n",
        "print('x1:', x1.grad.item())\n",
        "print('w1:', w1.grad.item())"
      ],
      "metadata": {
        "colab": {
          "base_uri": "https://localhost:8080/"
        },
        "id": "QJEsOXc7UZcn",
        "outputId": "8e0568f7-daa3-4fb3-9354-c1635b4abdf8"
      },
      "execution_count": 5,
      "outputs": [
        {
          "output_type": "stream",
          "name": "stdout",
          "text": [
            "\n",
            "x2: 0.5000001283844369\n",
            "w2: 0.0\n",
            "x1: -1.5000003851533106\n",
            "w1: 1.0000002567688737\n"
          ]
        }
      ]
    },
    {
      "cell_type": "markdown",
      "source": [
        "Acima nós utilizamos de uma biblioteca chamada de **PyTorch**, a fim de conferir se o cálculo dos gradientes batem, o que acontece.\n",
        "\n",
        "Essa é uma biblioteca que é recorrentemente utilizada para a aplicação de ténicas e arquiteturas de Machine Learning e, por isso, já conta com diversas funções que automatizam todo o processo realizado nesse repositório."
      ],
      "metadata": {
        "id": "uEw32FgyGf5Q"
      }
    }
  ]
}