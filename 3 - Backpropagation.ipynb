{
  "nbformat": 4,
  "nbformat_minor": 0,
  "metadata": {
    "colab": {
      "provenance": []
    },
    "kernelspec": {
      "name": "python3",
      "display_name": "Python 3"
    },
    "language_info": {
      "name": "python"
    }
  },
  "cells": [
    {
      "cell_type": "markdown",
      "source": [
        "A classe a seguir foi apresentada no notebook anterior."
      ],
      "metadata": {
        "id": "uoHB-590TVb1"
      }
    },
    {
      "cell_type": "code",
      "source": [
        "import math\n",
        "import random\n",
        "import numpy as np\n",
        "import matplotlib.pyplot as plt\n",
        "%matplotlib inline\n",
        "\n",
        "class Value:\n",
        "  \n",
        "  def __init__(self, data, _children=(), _op='', label=''):\n",
        "    self.data = data\n",
        "    self.grad = 0.0\n",
        "    self._backward = lambda: None\n",
        "    self._prev = set(_children)\n",
        "    self._op = _op\n",
        "    self.label = label\n",
        "\n",
        "  def __repr__(self):\n",
        "    return f\"Value(data={self.data})\"\n",
        "  \n",
        "  #Definição da operação de soma\n",
        "  def __add__(self, other):\n",
        "    other = other if isinstance(other, Value) else Value(other)\n",
        "    out = Value(self.data + other.data, (self, other), '+')\n",
        "    \n",
        "    #Como visto anteriormente, a derivada de uma soma é 1. Logo, com a regra da cadeia, basta fazer um \"repasse\" do gradiente que está \"chegando\"\n",
        "    def _backward():\n",
        "      self.grad += 1.0 * out.grad\n",
        "      other.grad += 1.0 * out.grad\n",
        "    out._backward = _backward\n",
        "    \n",
        "    return out\n",
        "\n",
        "  #Definição da operação de multiplicação\n",
        "  def __mul__(self, other):\n",
        "    other = other if isinstance(other, Value) else Value(other)\n",
        "    out = Value(self.data * other.data, (self, other), '*')\n",
        "    \n",
        "    #Como visto anteriormente, a derivada de uma multiplicação é o \"outro termo\". Logo, com a regra da cadeia, basta fazer uma multiplicação entre o \"outro termo\" e o grandiente que está \"chegando\"\n",
        "    def _backward():\n",
        "      self.grad += other.data * out.grad\n",
        "      other.grad += self.data * out.grad\n",
        "    out._backward = _backward\n",
        "      \n",
        "    return out\n",
        "  \n",
        "  #Definição da operação de potenciação\n",
        "  def __pow__(self, other):\n",
        "    assert isinstance(other, (int, float)), \"only supporting int/float powers for now\"\n",
        "    out = Value(self.data**other, (self,), f'**{other}')\n",
        "\n",
        "    #Como visto anteriormente, de acordo com a Regra do Tombo, a derivada de A^b deve ser b*A^b-1. Logo, com a regra da cadeia, basta multiplicar o resultado com o gradiente que está \"chegando\" \n",
        "    def _backward():\n",
        "        self.grad += other * (self.data ** (other - 1)) * out.grad\n",
        "    out._backward = _backward\n",
        "\n",
        "    return out\n",
        "  \n",
        "  #Definição da operação de multiplicação com a inversão dos fatores\n",
        "  def __rmul__(self, other):\n",
        "    return self * other\n",
        "\n",
        "  #Definição da operação de divisão como uma operação de potenciação\n",
        "  def __truediv__(self, other):\n",
        "    return self * other**-1\n",
        "\n",
        "  #Definição da operação do negativo de um valor\n",
        "  def __neg__(self):\n",
        "    return self * -1\n",
        "  \n",
        "  #Definição da operação de subtração\n",
        "  def __sub__(self, other):\n",
        "    return self + (-other)\n",
        "\n",
        "  #Definição da operação de adição com a inversão dos valores\n",
        "  def __radd__(self, other):\n",
        "    return self + other\n",
        "\n",
        "  #Definição da função Tangente Hiperbólica\n",
        "  def tanh(self):\n",
        "    x = self.data\n",
        "    t = (math.exp(2*x) - 1)/(math.exp(2*x) + 1)\n",
        "    out = Value(t, (self, ), 'tanh')\n",
        "    \n",
        "    #Cálculo do gradiente com base na derivada da função e, com a regra da cadeia, no gradiente que está \"chegando\"\n",
        "    def _backward():\n",
        "      self.grad += (1 - t**2) * out.grad\n",
        "    out._backward = _backward\n",
        "    \n",
        "    return out\n",
        "  \n",
        "  #Definição da função de exponencial natural\n",
        "  def exp(self):\n",
        "    x = self.data\n",
        "    out = Value(math.exp(x), (self, ), 'exp')\n",
        "    \n",
        "    #Como visto anteriormente, a derivada dessa função é ela mesma, por isso, basta multiplicar o seu valor pelo gradiente que está \"chegando\"\n",
        "    def _backward():\n",
        "      self.grad += out.data * out.grad\n",
        "    out._backward = _backward\n",
        "    \n",
        "    return out\n",
        "  \n",
        "  #Função que orquestra o cálculo dos gradientes\n",
        "  def backward(self):\n",
        "    \n",
        "    topo = []\n",
        "    visited = set()\n",
        "    def build_topo(v):\n",
        "      if v not in visited:\n",
        "        visited.add(v)\n",
        "        for child in v._prev:\n",
        "          build_topo(child)\n",
        "        topo.append(v)\n",
        "    build_topo(self)\n",
        "    \n",
        "    self.grad = 1.0\n",
        "    for node in reversed(topo):\n",
        "      node._backward()"
      ],
      "metadata": {
        "id": "nTH1oM7-TYWm"
      },
      "execution_count": 1,
      "outputs": []
    },
    {
      "cell_type": "markdown",
      "source": [
        "O código a seguir é necessário para o plot do grafo que demonstra os passos do processo de **backpropagation**."
      ],
      "metadata": {
        "id": "rNvm-SgOTIrZ"
      }
    },
    {
      "cell_type": "code",
      "execution_count": 2,
      "metadata": {
        "id": "279k1J8aS_O7"
      },
      "outputs": [],
      "source": [
        "from graphviz import Digraph\n",
        "\n",
        "def trace(root):\n",
        "  nodes, edges = set(), set()\n",
        "  def build(v):\n",
        "    if v not in nodes:\n",
        "      nodes.add(v)\n",
        "      for child in v._prev:\n",
        "        edges.add((child, v))\n",
        "        build(child)\n",
        "  build(root)\n",
        "  return nodes, edges\n",
        "\n",
        "def draw_dot(root):\n",
        "  dot = Digraph(format='svg', graph_attr={'rankdir': 'LR'})\n",
        "  \n",
        "  nodes, edges = trace(root)\n",
        "  for n in nodes:\n",
        "    uid = str(id(n))\n",
        "    dot.node(name = uid, label = \"{ %s | data %.4f | grad %.4f }\" % (n.label, n.data, n.grad), shape='record')\n",
        "    if n._op:\n",
        "      dot.node(name = uid + n._op, label = n._op)\n",
        "      dot.edge(uid + n._op, uid)\n",
        "\n",
        "  for n1, n2 in edges:\n",
        "    dot.edge(str(id(n1)), str(id(n2)) + n2._op)\n",
        "\n",
        "  return dot"
      ]
    },
    {
      "cell_type": "markdown",
      "source": [
        "A seguir nós temos a definição de alguns valores e operações, já simulando o processo de um neurônio:\n",
        "\n",
        "<p align=\"center\" width=\"100%\">\n",
        "    <img width=\"33%\" src=\"data:image/png;base64,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\"> \n",
        "</p>\n",
        "\n",
        "[Fonte da Imagem](https://neigrando.com/2022/03/03/neuronios-e-redes-neurais-artificiais/)"
      ],
      "metadata": {
        "id": "GuBk5ytfTQGG"
      }
    },
    {
      "cell_type": "markdown",
      "source": [
        "$x$ representa o dado de entrada, $w$ representa o peso e $b$ é o bias.\n",
        "\n",
        "A primeira equação realizada é:\n",
        "\n",
        "\\begin{align}\n",
        "\\displaystyle\\sum_{i=1}^n x_i \\times w_i + b\n",
        "\\end{align}\n",
        "\n",
        "Em que $n$ é a quantidade de entradas, que é a mesma quantidade também de pesos.\n",
        "\n",
        "Depois disso, é necessário calcular o valor na função de ativação que, nesse caso, é a Tangente Hiperbólica.\n",
        "\n",
        "Por fim, o valor dos gradientes é calculado ao chamar a função *backward*."
      ],
      "metadata": {
        "id": "dOJCq5EU7rtF"
      }
    },
    {
      "cell_type": "code",
      "source": [
        "# inputs x1,x2\n",
        "x1 = Value(2.0, label='x1')\n",
        "x2 = Value(0.0, label='x2')\n",
        "\n",
        "# weights w1,w2\n",
        "w1 = Value(-3.0, label='w1')\n",
        "w2 = Value(1.0, label='w2')\n",
        "\n",
        "# bias of the neuron\n",
        "b = Value(6.8813735870195432, label='b')\n",
        "\n",
        "# x1*w1 + x2*w2 + b\n",
        "x1w1 = x1*w1; x1w1.label = 'x1*w1'\n",
        "x2w2 = x2*w2; x2w2.label = 'x2*w2'\n",
        "x1w1x2w2 = x1w1 + x2w2; x1w1x2w2.label = 'x1*w1 + x2*w2'\n",
        "n = x1w1x2w2 + b; n.label = 'n'\n",
        "o = n.tanh(); o.label = 'o'\n",
        "o.backward()"
      ],
      "metadata": {
        "id": "StxXeBa1TG7C"
      },
      "execution_count": null,
      "outputs": []
    },
    {
      "cell_type": "markdown",
      "source": [
        "Feitas as operações, é possível agora ver como o fluxo fica através do grafo a seguir:"
      ],
      "metadata": {
        "id": "-ACvbXJg-Duv"
      }
    },
    {
      "cell_type": "code",
      "source": [
        "draw_dot(o)"
      ],
      "metadata": {
        "id": "BqBIFJncTdme",
        "outputId": "99982bee-d549-4d5e-e7f8-fa7a8f05c311",
        "colab": {
          "base_uri": "https://localhost:8080/",
          "height": 321
        }
      },
      "execution_count": null,
      "outputs": [
        {
          "output_type": "execute_result",
          "data": {
            "image/svg+xml": "<?xml version=\"1.0\" encoding=\"UTF-8\" standalone=\"no\"?>\n<!DOCTYPE svg PUBLIC \"-//W3C//DTD SVG 1.1//EN\"\n \"http://www.w3.org/Graphics/SVG/1.1/DTD/svg11.dtd\">\n<!-- Generated by graphviz version 2.43.0 (0)\n -->\n<!-- Title: %3 Pages: 1 -->\n<svg width=\"1575pt\" height=\"210pt\"\n viewBox=\"0.00 0.00 1575.00 210.00\" xmlns=\"http://www.w3.org/2000/svg\" xmlns:xlink=\"http://www.w3.org/1999/xlink\">\n<g id=\"graph0\" class=\"graph\" transform=\"scale(1 1) rotate(0) translate(4 206)\">\n<title>%3</title>\n<polygon fill=\"white\" stroke=\"transparent\" points=\"-4,4 -4,-206 1571,-206 1571,4 -4,4\"/>\n<!-- 140204405394832 -->\n<g id=\"node1\" class=\"node\">\n<title>140204405394832</title>\n<polygon fill=\"none\" stroke=\"black\" points=\"0,-165.5 0,-201.5 200,-201.5 200,-165.5 0,-165.5\"/>\n<text text-anchor=\"middle\" x=\"16.5\" y=\"-179.8\" font-family=\"Times,serif\" font-size=\"14.00\">w1</text>\n<polyline fill=\"none\" stroke=\"black\" points=\"33,-165.5 33,-201.5 \"/>\n<text text-anchor=\"middle\" x=\"75.5\" y=\"-179.8\" font-family=\"Times,serif\" font-size=\"14.00\">data &#45;3.0000</text>\n<polyline fill=\"none\" stroke=\"black\" points=\"118,-165.5 118,-201.5 \"/>\n<text text-anchor=\"middle\" x=\"159\" y=\"-179.8\" font-family=\"Times,serif\" font-size=\"14.00\">grad 1.0000</text>\n</g>\n<!-- 140204521201136* -->\n<g id=\"node6\" class=\"node\">\n<title>140204521201136*</title>\n<ellipse fill=\"none\" stroke=\"black\" cx=\"263\" cy=\"-128.5\" rx=\"27\" ry=\"18\"/>\n<text text-anchor=\"middle\" x=\"263\" y=\"-124.8\" font-family=\"Times,serif\" font-size=\"14.00\">*</text>\n</g>\n<!-- 140204405394832&#45;&gt;140204521201136* -->\n<g id=\"edge12\" class=\"edge\">\n<title>140204405394832&#45;&gt;140204521201136*</title>\n<path fill=\"none\" stroke=\"black\" d=\"M172.53,-165.44C181.84,-162.67 191.2,-159.67 200,-156.5 210.53,-152.71 221.75,-147.9 231.72,-143.33\"/>\n<polygon fill=\"black\" stroke=\"black\" points=\"233.25,-146.48 240.82,-139.07 230.28,-140.14 233.25,-146.48\"/>\n</g>\n<!-- 140204405393536 -->\n<g id=\"node2\" class=\"node\">\n<title>140204405393536</title>\n<polygon fill=\"none\" stroke=\"black\" points=\"2.5,-55.5 2.5,-91.5 197.5,-91.5 197.5,-55.5 2.5,-55.5\"/>\n<text text-anchor=\"middle\" x=\"19\" y=\"-69.8\" font-family=\"Times,serif\" font-size=\"14.00\">w2</text>\n<polyline fill=\"none\" stroke=\"black\" points=\"35.5,-55.5 35.5,-91.5 \"/>\n<text text-anchor=\"middle\" x=\"75.5\" y=\"-69.8\" font-family=\"Times,serif\" font-size=\"14.00\">data 1.0000</text>\n<polyline fill=\"none\" stroke=\"black\" points=\"115.5,-55.5 115.5,-91.5 \"/>\n<text text-anchor=\"middle\" x=\"156.5\" y=\"-69.8\" font-family=\"Times,serif\" font-size=\"14.00\">grad 0.0000</text>\n</g>\n<!-- 140204386363280* -->\n<g id=\"node10\" class=\"node\">\n<title>140204386363280*</title>\n<ellipse fill=\"none\" stroke=\"black\" cx=\"263\" cy=\"-73.5\" rx=\"27\" ry=\"18\"/>\n<text text-anchor=\"middle\" x=\"263\" y=\"-69.8\" font-family=\"Times,serif\" font-size=\"14.00\">*</text>\n</g>\n<!-- 140204405393536&#45;&gt;140204386363280* -->\n<g id=\"edge14\" class=\"edge\">\n<title>140204405393536&#45;&gt;140204386363280*</title>\n<path fill=\"none\" stroke=\"black\" d=\"M197.91,-73.5C207.65,-73.5 217.05,-73.5 225.52,-73.5\"/>\n<polygon fill=\"black\" stroke=\"black\" points=\"225.7,-77 235.7,-73.5 225.7,-70 225.7,-77\"/>\n</g>\n<!-- 140204386362512 -->\n<g id=\"node3\" class=\"node\">\n<title>140204386362512</title>\n<polygon fill=\"none\" stroke=\"black\" points=\"1071,-54.5 1071,-90.5 1256,-90.5 1256,-54.5 1071,-54.5\"/>\n<text text-anchor=\"middle\" x=\"1082.5\" y=\"-68.8\" font-family=\"Times,serif\" font-size=\"14.00\">n</text>\n<polyline fill=\"none\" stroke=\"black\" points=\"1094,-54.5 1094,-90.5 \"/>\n<text text-anchor=\"middle\" x=\"1134\" y=\"-68.8\" font-family=\"Times,serif\" font-size=\"14.00\">data 0.8814</text>\n<polyline fill=\"none\" stroke=\"black\" points=\"1174,-54.5 1174,-90.5 \"/>\n<text text-anchor=\"middle\" x=\"1215\" y=\"-68.8\" font-family=\"Times,serif\" font-size=\"14.00\">grad 0.5000</text>\n</g>\n<!-- 140204386364864tanh -->\n<g id=\"node13\" class=\"node\">\n<title>140204386364864tanh</title>\n<ellipse fill=\"none\" stroke=\"black\" cx=\"1319\" cy=\"-72.5\" rx=\"27\" ry=\"18\"/>\n<text text-anchor=\"middle\" x=\"1319\" y=\"-68.8\" font-family=\"Times,serif\" font-size=\"14.00\">tanh</text>\n</g>\n<!-- 140204386362512&#45;&gt;140204386364864tanh -->\n<g id=\"edge6\" class=\"edge\">\n<title>140204386362512&#45;&gt;140204386364864tanh</title>\n<path fill=\"none\" stroke=\"black\" d=\"M1256.01,-72.5C1265.01,-72.5 1273.74,-72.5 1281.66,-72.5\"/>\n<polygon fill=\"black\" stroke=\"black\" points=\"1281.91,-76 1291.91,-72.5 1281.91,-69 1281.91,-76\"/>\n</g>\n<!-- 140204386362512+ -->\n<g id=\"node4\" class=\"node\">\n<title>140204386362512+</title>\n<ellipse fill=\"none\" stroke=\"black\" cx=\"1008\" cy=\"-72.5\" rx=\"27\" ry=\"18\"/>\n<text text-anchor=\"middle\" x=\"1008\" y=\"-68.8\" font-family=\"Times,serif\" font-size=\"14.00\">+</text>\n</g>\n<!-- 140204386362512+&#45;&gt;140204386362512 -->\n<g id=\"edge1\" class=\"edge\">\n<title>140204386362512+&#45;&gt;140204386362512</title>\n<path fill=\"none\" stroke=\"black\" d=\"M1035.04,-72.5C1042.58,-72.5 1051.3,-72.5 1060.57,-72.5\"/>\n<polygon fill=\"black\" stroke=\"black\" points=\"1060.81,-76 1070.81,-72.5 1060.81,-69 1060.81,-76\"/>\n</g>\n<!-- 140204521201136 -->\n<g id=\"node5\" class=\"node\">\n<title>140204521201136</title>\n<polygon fill=\"none\" stroke=\"black\" points=\"326,-110.5 326,-146.5 546,-146.5 546,-110.5 326,-110.5\"/>\n<text text-anchor=\"middle\" x=\"352.5\" y=\"-124.8\" font-family=\"Times,serif\" font-size=\"14.00\">x1*w1</text>\n<polyline fill=\"none\" stroke=\"black\" points=\"379,-110.5 379,-146.5 \"/>\n<text text-anchor=\"middle\" x=\"421.5\" y=\"-124.8\" font-family=\"Times,serif\" font-size=\"14.00\">data &#45;6.0000</text>\n<polyline fill=\"none\" stroke=\"black\" points=\"464,-110.5 464,-146.5 \"/>\n<text text-anchor=\"middle\" x=\"505\" y=\"-124.8\" font-family=\"Times,serif\" font-size=\"14.00\">grad 0.5000</text>\n</g>\n<!-- 140204386363376+ -->\n<g id=\"node15\" class=\"node\">\n<title>140204386363376+</title>\n<ellipse fill=\"none\" stroke=\"black\" cx=\"609\" cy=\"-100.5\" rx=\"27\" ry=\"18\"/>\n<text text-anchor=\"middle\" x=\"609\" y=\"-96.8\" font-family=\"Times,serif\" font-size=\"14.00\">+</text>\n</g>\n<!-- 140204521201136&#45;&gt;140204386363376+ -->\n<g id=\"edge10\" class=\"edge\">\n<title>140204521201136&#45;&gt;140204386363376+</title>\n<path fill=\"none\" stroke=\"black\" d=\"M546.27,-110.61C555.64,-109.07 564.6,-107.61 572.65,-106.29\"/>\n<polygon fill=\"black\" stroke=\"black\" points=\"573.35,-109.72 582.65,-104.65 572.22,-102.81 573.35,-109.72\"/>\n</g>\n<!-- 140204521201136*&#45;&gt;140204521201136 -->\n<g id=\"edge2\" class=\"edge\">\n<title>140204521201136*&#45;&gt;140204521201136</title>\n<path fill=\"none\" stroke=\"black\" d=\"M290.34,-128.5C297.77,-128.5 306.37,-128.5 315.6,-128.5\"/>\n<polygon fill=\"black\" stroke=\"black\" points=\"315.84,-132 325.84,-128.5 315.84,-125 315.84,-132\"/>\n</g>\n<!-- 140204405395168 -->\n<g id=\"node7\" class=\"node\">\n<title>140204405395168</title>\n<polygon fill=\"none\" stroke=\"black\" points=\"716,-27.5 716,-63.5 901,-63.5 901,-27.5 716,-27.5\"/>\n<text text-anchor=\"middle\" x=\"727.5\" y=\"-41.8\" font-family=\"Times,serif\" font-size=\"14.00\">b</text>\n<polyline fill=\"none\" stroke=\"black\" points=\"739,-27.5 739,-63.5 \"/>\n<text text-anchor=\"middle\" x=\"779\" y=\"-41.8\" font-family=\"Times,serif\" font-size=\"14.00\">data 6.8814</text>\n<polyline fill=\"none\" stroke=\"black\" points=\"819,-27.5 819,-63.5 \"/>\n<text text-anchor=\"middle\" x=\"860\" y=\"-41.8\" font-family=\"Times,serif\" font-size=\"14.00\">grad 0.5000</text>\n</g>\n<!-- 140204405395168&#45;&gt;140204386362512+ -->\n<g id=\"edge8\" class=\"edge\">\n<title>140204405395168&#45;&gt;140204386362512+</title>\n<path fill=\"none\" stroke=\"black\" d=\"M901.02,-58.01C926,-61.43 951.59,-64.93 971.37,-67.63\"/>\n<polygon fill=\"black\" stroke=\"black\" points=\"971.05,-71.12 981.43,-69.01 972,-64.18 971.05,-71.12\"/>\n</g>\n<!-- 140204405393152 -->\n<g id=\"node8\" class=\"node\">\n<title>140204405393152</title>\n<polygon fill=\"none\" stroke=\"black\" points=\"4,-0.5 4,-36.5 196,-36.5 196,-0.5 4,-0.5\"/>\n<text text-anchor=\"middle\" x=\"19\" y=\"-14.8\" font-family=\"Times,serif\" font-size=\"14.00\">x2</text>\n<polyline fill=\"none\" stroke=\"black\" points=\"34,-0.5 34,-36.5 \"/>\n<text text-anchor=\"middle\" x=\"74\" y=\"-14.8\" font-family=\"Times,serif\" font-size=\"14.00\">data 0.0000</text>\n<polyline fill=\"none\" stroke=\"black\" points=\"114,-0.5 114,-36.5 \"/>\n<text text-anchor=\"middle\" x=\"155\" y=\"-14.8\" font-family=\"Times,serif\" font-size=\"14.00\">grad 0.5000</text>\n</g>\n<!-- 140204405393152&#45;&gt;140204386363280* -->\n<g id=\"edge9\" class=\"edge\">\n<title>140204405393152&#45;&gt;140204386363280*</title>\n<path fill=\"none\" stroke=\"black\" d=\"M169.28,-36.5C179.65,-39.61 190.16,-42.98 200,-46.5 210.28,-50.17 221.28,-54.74 231.11,-59.07\"/>\n<polygon fill=\"black\" stroke=\"black\" points=\"229.93,-62.37 240.48,-63.27 232.79,-55.99 229.93,-62.37\"/>\n</g>\n<!-- 140204386363280 -->\n<g id=\"node9\" class=\"node\">\n<title>140204386363280</title>\n<polygon fill=\"none\" stroke=\"black\" points=\"328.5,-55.5 328.5,-91.5 543.5,-91.5 543.5,-55.5 328.5,-55.5\"/>\n<text text-anchor=\"middle\" x=\"355\" y=\"-69.8\" font-family=\"Times,serif\" font-size=\"14.00\">x2*w2</text>\n<polyline fill=\"none\" stroke=\"black\" points=\"381.5,-55.5 381.5,-91.5 \"/>\n<text text-anchor=\"middle\" x=\"421.5\" y=\"-69.8\" font-family=\"Times,serif\" font-size=\"14.00\">data 0.0000</text>\n<polyline fill=\"none\" stroke=\"black\" points=\"461.5,-55.5 461.5,-91.5 \"/>\n<text text-anchor=\"middle\" x=\"502.5\" y=\"-69.8\" font-family=\"Times,serif\" font-size=\"14.00\">grad 0.5000</text>\n</g>\n<!-- 140204386363280&#45;&gt;140204386363376+ -->\n<g id=\"edge13\" class=\"edge\">\n<title>140204386363280&#45;&gt;140204386363376+</title>\n<path fill=\"none\" stroke=\"black\" d=\"M543.84,-90.37C554.01,-91.98 563.76,-93.51 572.44,-94.89\"/>\n<polygon fill=\"black\" stroke=\"black\" points=\"572.05,-98.37 582.47,-96.47 573.14,-91.45 572.05,-98.37\"/>\n</g>\n<!-- 140204386363280*&#45;&gt;140204386363280 -->\n<g id=\"edge3\" class=\"edge\">\n<title>140204386363280*&#45;&gt;140204386363280</title>\n<path fill=\"none\" stroke=\"black\" d=\"M290.34,-73.5C298.51,-73.5 308.08,-73.5 318.36,-73.5\"/>\n<polygon fill=\"black\" stroke=\"black\" points=\"318.39,-77 328.39,-73.5 318.39,-70 318.39,-77\"/>\n</g>\n<!-- 140204405395360 -->\n<g id=\"node11\" class=\"node\">\n<title>140204405395360</title>\n<polygon fill=\"none\" stroke=\"black\" points=\"2,-110.5 2,-146.5 198,-146.5 198,-110.5 2,-110.5\"/>\n<text text-anchor=\"middle\" x=\"17\" y=\"-124.8\" font-family=\"Times,serif\" font-size=\"14.00\">x1</text>\n<polyline fill=\"none\" stroke=\"black\" points=\"32,-110.5 32,-146.5 \"/>\n<text text-anchor=\"middle\" x=\"72\" y=\"-124.8\" font-family=\"Times,serif\" font-size=\"14.00\">data 2.0000</text>\n<polyline fill=\"none\" stroke=\"black\" points=\"112,-110.5 112,-146.5 \"/>\n<text text-anchor=\"middle\" x=\"155\" y=\"-124.8\" font-family=\"Times,serif\" font-size=\"14.00\">grad &#45;1.5000</text>\n</g>\n<!-- 140204405395360&#45;&gt;140204521201136* -->\n<g id=\"edge7\" class=\"edge\">\n<title>140204405395360&#45;&gt;140204521201136*</title>\n<path fill=\"none\" stroke=\"black\" d=\"M198.37,-128.5C208.05,-128.5 217.4,-128.5 225.8,-128.5\"/>\n<polygon fill=\"black\" stroke=\"black\" points=\"225.91,-132 235.91,-128.5 225.91,-125 225.91,-132\"/>\n</g>\n<!-- 140204386364864 -->\n<g id=\"node12\" class=\"node\">\n<title>140204386364864</title>\n<polygon fill=\"none\" stroke=\"black\" points=\"1382,-54.5 1382,-90.5 1567,-90.5 1567,-54.5 1382,-54.5\"/>\n<text text-anchor=\"middle\" x=\"1393.5\" y=\"-68.8\" font-family=\"Times,serif\" font-size=\"14.00\">o</text>\n<polyline fill=\"none\" stroke=\"black\" points=\"1405,-54.5 1405,-90.5 \"/>\n<text text-anchor=\"middle\" x=\"1445\" y=\"-68.8\" font-family=\"Times,serif\" font-size=\"14.00\">data 0.7071</text>\n<polyline fill=\"none\" stroke=\"black\" points=\"1485,-54.5 1485,-90.5 \"/>\n<text text-anchor=\"middle\" x=\"1526\" y=\"-68.8\" font-family=\"Times,serif\" font-size=\"14.00\">grad 1.0000</text>\n</g>\n<!-- 140204386364864tanh&#45;&gt;140204386364864 -->\n<g id=\"edge4\" class=\"edge\">\n<title>140204386364864tanh&#45;&gt;140204386364864</title>\n<path fill=\"none\" stroke=\"black\" d=\"M1346.04,-72.5C1353.58,-72.5 1362.3,-72.5 1371.57,-72.5\"/>\n<polygon fill=\"black\" stroke=\"black\" points=\"1371.81,-76 1381.81,-72.5 1371.81,-69 1371.81,-76\"/>\n</g>\n<!-- 140204386363376 -->\n<g id=\"node14\" class=\"node\">\n<title>140204386363376</title>\n<polygon fill=\"none\" stroke=\"black\" points=\"672,-82.5 672,-118.5 945,-118.5 945,-82.5 672,-82.5\"/>\n<text text-anchor=\"middle\" x=\"725\" y=\"-96.8\" font-family=\"Times,serif\" font-size=\"14.00\">x1*w1 + x2*w2</text>\n<polyline fill=\"none\" stroke=\"black\" points=\"778,-82.5 778,-118.5 \"/>\n<text text-anchor=\"middle\" x=\"820.5\" y=\"-96.8\" font-family=\"Times,serif\" font-size=\"14.00\">data &#45;6.0000</text>\n<polyline fill=\"none\" stroke=\"black\" points=\"863,-82.5 863,-118.5 \"/>\n<text text-anchor=\"middle\" x=\"904\" y=\"-96.8\" font-family=\"Times,serif\" font-size=\"14.00\">grad 0.5000</text>\n</g>\n<!-- 140204386363376&#45;&gt;140204386362512+ -->\n<g id=\"edge11\" class=\"edge\">\n<title>140204386363376&#45;&gt;140204386362512+</title>\n<path fill=\"none\" stroke=\"black\" d=\"M936.53,-82.49C949.09,-80.71 960.99,-79.02 971.3,-77.56\"/>\n<polygon fill=\"black\" stroke=\"black\" points=\"972.03,-80.99 981.44,-76.12 971.05,-74.06 972.03,-80.99\"/>\n</g>\n<!-- 140204386363376+&#45;&gt;140204386363376 -->\n<g id=\"edge5\" class=\"edge\">\n<title>140204386363376+&#45;&gt;140204386363376</title>\n<path fill=\"none\" stroke=\"black\" d=\"M636.23,-100.5C643.7,-100.5 652.41,-100.5 661.87,-100.5\"/>\n<polygon fill=\"black\" stroke=\"black\" points=\"661.98,-104 671.98,-100.5 661.98,-97 661.98,-104\"/>\n</g>\n</g>\n</svg>\n",
            "text/plain": [
              "<graphviz.graphs.Digraph at 0x7f83e8ae9970>"
            ]
          },
          "metadata": {},
          "execution_count": 4
        }
      ]
    },
    {
      "cell_type": "markdown",
      "source": [
        "Em cada célula retangular desse grafo é possível ver a _label_, o valor do dado e o gradiente. As células redondas representam o tipo de operação realizada.\n",
        "\n",
        "O primeiro fluxo acontece da esquerda para a direita, em que os valores dos dados vão sendo preenchidos. Ao fim disso, o segundo fluxo acontece da direita para a esquerda, com o cálculo dos gradientes.\n",
        "\n",
        "O primeiro gradiente é, por default, $1$, já que seria a derivada de um valor em relação a ele mesmo. A partir disso, foi, então, calculado o gradiente de $n$ de acordo com a função de derivada da Tangente Hiperbólica, depois os gradientes de  $x1 \\times w1 + x2 \\times w2$ e de $b$ foram calculados de acordo com a derivada para operações de soma e assim por diante, nunca esquecendo de aplicar a Regra da Cadeia.\n",
        "\n",
        "Vale ressaltar que quando se trata de uma Rede Neural Profunda, a quantidade de operações é muito maior, dada a abundância de dados e neurônios."
      ],
      "metadata": {
        "id": "VGtykJRC-OR-"
      }
    },
    {
      "cell_type": "code",
      "source": [],
      "metadata": {
        "id": "vrpxPvemC7KM"
      },
      "execution_count": null,
      "outputs": []
    }
  ]
}
